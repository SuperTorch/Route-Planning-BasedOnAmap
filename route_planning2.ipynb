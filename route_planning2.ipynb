{
 "cells": [
  {
   "cell_type": "code",
   "execution_count": 1,
   "metadata": {},
   "outputs": [],
   "source": [
    "import route_api\n",
    "import pandas as pd\n",
    "\n",
    "def get_nearest_subwaystation(data, location1):\n",
    "    distance = float('inf')\n",
    "    #print(location1[0], location1[1])\n",
    "    nearest = None\n",
    "    for i in range(data.shape[0]):\n",
    "        site1 = data.loc[i, 'name']\n",
    "        longitude, latitude = float(data.loc[i, 'longitude']), float(data.loc[i, 'latitude'])\n",
    "        temp = (float(location1[0]) - longitude)** 2 + (float(location1[1]) - latitude) ** 2\n",
    "        if temp < distance:\n",
    "            distance = temp\n",
    "            nearest = site1\n",
    "    return nearest\n",
    "\n",
    "def get_nearest_subwaystation2(data, location1):\n",
    "    distance = float('inf')\n",
    "    #print(location1[0], location1[1])\n",
    "    nearest = None\n",
    "    for i in range(data.shape[0]):\n",
    "        site1 = data.loc[i, 'name']\n",
    "        longitude, latitude = float(data.loc[i, 'longitude']), float(data.loc[i, 'latitude'])\n",
    "        #temp = (float(location1[0]) - longitude)** 2 + (float(location1[1]) - latitude) ** 2\n",
    "        temp = route_api.compute_distance(location1[0], location1[1], longitude, latitude)\n",
    "        if temp < distance:\n",
    "            distance = temp\n",
    "            nearest = site1\n",
    "    return nearest\n",
    "        \n",
    "def compute(site1, site2):\n",
    "    # 计算site1的location\n",
    "    location1 = route_api.get_location(site1, city)\n",
    "    #print(location1)\n",
    "    location2 = route_api.get_location(site2, city)\n",
    "    # 计算site1最近的地铁站start\n",
    "    data = pd.read_csv('./subway.csv')\n",
    "    start = get_nearest_subwaystation(data, location1)\n",
    "    end = get_nearest_subwaystation(data, location2)\n",
    "    print('{}最近的地铁站是{}'.format(site1, start))\n",
    "    print('{}最近的地铁站是{}'.format(site2, end))\n",
    "    shortest_path = route_api.compute(start, end)\n",
    "    if site1 != start:\n",
    "        shortest_path.insert(0, site1)\n",
    "    if site2 != end:\n",
    "        shortest_path.append(site2)\n",
    "    print('从{}到{}的最优路径为{}'.format(site1, site2, shortest_path))\n"
   ]
  },
  {
   "cell_type": "code",
   "execution_count": 2,
   "metadata": {},
   "outputs": [
    {
     "name": "stdout",
     "output_type": "stream",
     "text": [
      "中国传媒大学最近的地铁站是传媒大学站\n",
      "798最近的地铁站是将台站\n",
      "从传媒大学站到将台站的最短路径：['传媒大学站', '高碑店站', '四惠东站', '四惠站', '大望路站', '红庙站', '金台路站', '朝阳公园站', '枣营站', '东风北桥站', '将台站']\n",
      "从中国传媒大学到798的最优路径为['中国传媒大学', '传媒大学站', '高碑店站', '四惠东站', '四惠站', '大望路站', '红庙站', '金台路站', '朝阳公园站', '枣营站', '东风北桥站', '将台站', '798']\n"
     ]
    }
   ],
   "source": [
    "city = '北京'\n",
    "compute('中国传媒大学', '798')"
   ]
  },
  {
   "cell_type": "code",
   "execution_count": null,
   "metadata": {},
   "outputs": [],
   "source": []
  }
 ],
 "metadata": {
  "kernelspec": {
   "display_name": "Python 3",
   "language": "python",
   "name": "python3"
  },
  "language_info": {
   "codemirror_mode": {
    "name": "ipython",
    "version": 3
   },
   "file_extension": ".py",
   "mimetype": "text/x-python",
   "name": "python",
   "nbconvert_exporter": "python",
   "pygments_lexer": "ipython3",
   "version": "3.7.6"
  }
 },
 "nbformat": 4,
 "nbformat_minor": 4
}
